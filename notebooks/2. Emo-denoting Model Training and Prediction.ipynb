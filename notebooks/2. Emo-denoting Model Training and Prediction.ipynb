{
 "cells": [
  {
   "cell_type": "markdown",
   "metadata": {},
   "source": [
    "# Note\n",
    "This jupyter notebook is used to train simple model to predict emo-denoting words from the BERT prediction output\n",
    "\n",
    "### Training Data Preparation\n",
    "* Part of the BERT prediction output shall be labelled with 1/0 for emotion-denoting under a 'Label' column\n",
    "* The labelled part of the data are used in the supervised training with 30% of them used as validation set\n",
    "* **bert_output_path** is a variable for you to pass the path of the bert model prediction output from the BERT model prediction notebook\n",
    "\n",
    "### Model Training\n",
    "* Three models (random forest, decision tree, logistic regression) are included in the code for your model selection , feature importance, accuracy and f1-score on the test set\n",
    "* Change **model_select** variable to the desired one\n",
    "\n",
    "### Model Prediction result\n",
    "* Ouput file name **emo_pred_file_name** can be modified in the first cell"
   ]
  },
  {
   "cell_type": "code",
   "execution_count": 1,
   "metadata": {},
   "outputs": [],
   "source": [
    "import pandas as pd\n",
    "import random\n",
    "from sklearn import metrics\n",
    "import numpy as np\n",
    "import matplotlib.pyplot as plt\n",
    "from sklearn.model_selection import train_test_split\n",
    "from sklearn.ensemble import RandomForestClassifier\n",
    "from sklearn.tree import DecisionTreeClassifier\n",
    "from sklearn.linear_model import LogisticRegression\n",
    "import pickle\n",
    "\n",
    "\n",
    "### folder directory\n",
    "output_folder=\"../output/\"\n",
    "model_save_folder = \"../models/\"\n",
    "\n",
    "\n",
    "### read the BERT output csv file with \"emo?\" label \n",
    "bert_output_path = \"../output/bert_final_output.csv\"\n",
    "emo_pred_file_name=\"pred_with_rfc\"\n",
    "### "
   ]
  },
  {
   "cell_type": "markdown",
   "metadata": {},
   "source": [
    "## Model input data processing"
   ]
  },
  {
   "cell_type": "code",
   "execution_count": 2,
   "metadata": {},
   "outputs": [
    {
     "name": "stderr",
     "output_type": "stream",
     "text": [
      "/Users/nanyang/opt/anaconda3/lib/python3.7/site-packages/pandas/core/indexing.py:966: SettingWithCopyWarning: \n",
      "A value is trying to be set on a copy of a slice from a DataFrame.\n",
      "Try using .loc[row_indexer,col_indexer] = value instead\n",
      "\n",
      "See the caveats in the documentation: https://pandas.pydata.org/pandas-docs/stable/user_guide/indexing.html#returning-a-view-versus-a-copy\n",
      "  self.obj[item] = s\n",
      "/Users/nanyang/opt/anaconda3/lib/python3.7/site-packages/ipykernel_launcher.py:27: SettingWithCopyWarning: \n",
      "A value is trying to be set on a copy of a slice from a DataFrame.\n",
      "Try using .loc[row_indexer,col_indexer] = value instead\n",
      "\n",
      "See the caveats in the documentation: https://pandas.pydata.org/pandas-docs/stable/user_guide/indexing.html#returning-a-view-versus-a-copy\n",
      "/Users/nanyang/opt/anaconda3/lib/python3.7/site-packages/ipykernel_launcher.py:31: SettingWithCopyWarning: \n",
      "A value is trying to be set on a copy of a slice from a DataFrame.\n",
      "Try using .loc[row_indexer,col_indexer] = value instead\n",
      "\n",
      "See the caveats in the documentation: https://pandas.pydata.org/pandas-docs/stable/user_guide/indexing.html#returning-a-view-versus-a-copy\n"
     ]
    }
   ],
   "source": [
    "bert_output =pd.read_csv(bert_output_path)\n",
    "\n",
    "## reformat the input from bert prediction\n",
    "input_text = bert_output[['index','Label','self_auth','self_deg','self_betcent','pred_auth','pred_deg','pred_betcent','from_textid']]\n",
    "# bert_y=bert_output['Emo']\n",
    "\n",
    "## get the training data for the emo-denoting word prediction , get those data with \"Label\"\n",
    "for col in ['self_auth','self_deg','self_betcent']:\n",
    "    input_text.loc[input_text['Label'].isna(),col]=-1\n",
    "    \n",
    "## calculate average auth score from the BERT predicted words\n",
    "def cal_avg_pred_score(row):\n",
    "    count = 0\n",
    "    sum_ = 0\n",
    "    for item in row:\n",
    "        item = item.strip()\n",
    "        if item != '-1':\n",
    "            sum_ += float(item)\n",
    "            count+= 1\n",
    "    if count==0:\n",
    "        return 0\n",
    "    else:\n",
    "        return sum_/count\n",
    "\n",
    "### convert string list to float list for further \n",
    "for col in ['pred_auth','pred_deg','pred_betcent']:\n",
    "    input_text[col] = input_text[col].str.replace(\"'\",\"\",).str.replace(\"[\",\"\").str.replace(\"]\",\"\").str.split(',')\n",
    "\n",
    "### col avg calculation \n",
    "for col in ['pred_auth','pred_deg','pred_betcent']:\n",
    "    input_text['avg_'+col]= input_text[col].map(lambda x: cal_avg_pred_score(x))\n",
    "    \n",
    "### columns to fit the model    \n",
    "input_col = ['self_auth','self_deg','self_betcent','avg_pred_auth','avg_pred_deg','avg_pred_betcent']\n"
   ]
  },
  {
   "cell_type": "markdown",
   "metadata": {},
   "source": [
    "## Training data processing"
   ]
  },
  {
   "cell_type": "code",
   "execution_count": 32,
   "metadata": {},
   "outputs": [],
   "source": [
    "#training data input \n",
    "data_X = input_text.loc[~bert_y.isna(),input_col]\n",
    "data_Y = bert_y[~bert_y.isna()]\n"
   ]
  },
  {
   "cell_type": "code",
   "execution_count": 11,
   "metadata": {},
   "outputs": [],
   "source": [
    "## train and val data split\n",
    "X_train, X_test, y_train, y_test = train_test_split(data_X, data_Y, test_size=0.2, random_state=0)"
   ]
  },
  {
   "cell_type": "markdown",
   "metadata": {},
   "source": [
    "## Model selection Proces"
   ]
  },
  {
   "cell_type": "code",
   "execution_count": 16,
   "metadata": {},
   "outputs": [
    {
     "name": "stdout",
     "output_type": "stream",
     "text": [
      "Accuracy: 0.8811881188118812\n",
      "f1 score: 0.5862068965517241\n"
     ]
    },
    {
     "data": {
      "image/png": "[encoded data removed]",
      "text/plain": [
       "<Figure size 432x288 with 1 Axes>"
      ]
     },
     "metadata": {
      "needs_background": "light"
     },
     "output_type": "display_data"
    }
   ],
   "source": [
    "### fit training data on Random Forest Classifier\n",
    "\n",
    "rfc = RandomForestClassifier(n_estimators=20, random_state=0)\n",
    "rfc.fit(X_train, y_train)\n",
    "y_pred = rfc.predict(X_test)\n",
    "\n",
    "### display feature importances\n",
    "plt.bar([X_train.columns[x] for x in range(len(rfc.feature_importances_))], rfc.feature_importances_)\n",
    "plt.xticks(rotation=45)\n",
    "\n",
    "## calcualte accuracy and f1 score\n",
    "print('Accuracy:', np.sum(y_pred == y_test) / len(y_test))\n",
    "print(\"f1 score:\", metrics.f1_score(y_test,y_pred))"
   ]
  },
  {
   "cell_type": "code",
   "execution_count": 17,
   "metadata": {},
   "outputs": [
    {
     "name": "stdout",
     "output_type": "stream",
     "text": [
      "Accuracy 0.7970297029702971\n",
      "f1 score: 0.5060240963855421\n"
     ]
    },
    {
     "data": {
      "image/png": "[encoded data removed]",
      "text/plain": [
       "<Figure size 432x288 with 1 Axes>"
      ]
     },
     "metadata": {
      "needs_background": "light"
     },
     "output_type": "display_data"
    }
   ],
   "source": [
    "### fitting data on to decision tree\n",
    "\n",
    "dt = DecisionTreeClassifier()\n",
    "dt.fit(X_train,y_train)\n",
    "y_pred_dt = dt.predict(X_test)\n",
    "\n",
    "### display feature importances\n",
    "plt.bar([X_train.columns[x] for x in range(len(dt.feature_importances_))], dt.feature_importances_)\n",
    "plt.xticks(rotation=45)\n",
    "\n",
    "## calcualte accuracy and f1 score\n",
    "print('Accuracy', np.sum(y_pred_dt == y_test) / len(y_test))\n",
    "print(\"f1 score:\",metrics.f1_score(y_test,y_pred_dt))"
   ]
  },
  {
   "cell_type": "code",
   "execution_count": 18,
   "metadata": {},
   "outputs": [
    {
     "name": "stdout",
     "output_type": "stream",
     "text": [
      "Feature: Authority, Score: 0.66322\n",
      "Feature: Weighted Degree, Score: 0.00419\n",
      "Feature: betweenesscentrality, Score: -0.00000\n",
      "Feature: avg_pred_auth, Score: 0.02018\n",
      "Feature: avg_pred_deg, Score: 0.00336\n",
      "Feature: avg_pred_betcent, Score: -0.00001\n"
     ]
    },
    {
     "data": {
      "image/png": "[encoded data removed]",
      "text/plain": [
       "<Figure size 432x288 with 1 Axes>"
      ]
     },
     "metadata": {
      "needs_background": "light"
     },
     "output_type": "display_data"
    },
    {
     "name": "stdout",
     "output_type": "stream",
     "text": [
      "Accuracy: 0.8366336633663366\n",
      "f1 score: 0.26666666666666666\n"
     ]
    }
   ],
   "source": [
    "### fitting data to logistic regression model\n",
    "\n",
    "lg = LogisticRegression()\n",
    "lg.fit(X_train, y_train)\n",
    "\n",
    "# summarize feature importance\n",
    "importance = lg.coef_[0]\n",
    "for i,v in enumerate(importance):\n",
    "    print('Feature: %s, Score: %.5f' % (X_train.columns[i],v))\n",
    "# plot feature importance\n",
    "plt.bar([x for x in range(len(importance))], importance)\n",
    "plt.show()\n",
    "\n",
    "## evaluation on test set\n",
    "y_pred_lg=lg.predict(X_test)\n",
    "print('Accuracy:', np.sum(y_pred_lg == y_test) / len(y_test))\n",
    "print('f1 score:',metrics.f1_score(y_test,y_pred_lg))"
   ]
  },
  {
   "cell_type": "markdown",
   "metadata": {},
   "source": [
    "### Save Model and predict on the unlabelled data"
   ]
  },
  {
   "cell_type": "code",
   "execution_count": 19,
   "metadata": {},
   "outputs": [],
   "source": [
    "## predict the unlabelled data using the selected model\n",
    "\n",
    "\"\"\"\n",
    "options for model_select : \n",
    "rfc => random forest classifier\n",
    "dt => decision tree\n",
    "lg => logistic regression\n",
    "\"\"\"\n",
    "##### change accordingly\n",
    "model_select = rfc\n",
    "#####\n",
    "\n",
    "#### make prediction on unlabelled rows of input_text\n",
    "new_X = input_text.loc[bert_y.isna(),input_col]\n",
    "y_pred = model_select.predict(new_X)\n",
    "\n",
    "### save the selected model for future use\n",
    "\n",
    "filename = 'emo-prediction_rft_model'\n",
    "pickle.dump(model_select, open(model_save_folder +filename, 'wb'))"
   ]
  },
  {
   "cell_type": "code",
   "execution_count": 20,
   "metadata": {},
   "outputs": [],
   "source": [
    "### make new dataframe to output \n",
    "res = new_X.copy()\n",
    "res['word'] = bert_output.loc[bert_y.isna(),'index']\n",
    "res['emo?'] = y_pred\n",
    "res['textid']=bert_output.loc[bert_y.isna(),'from_textid']"
   ]
  },
  {
   "cell_type": "code",
   "execution_count": 24,
   "metadata": {},
   "outputs": [],
   "source": [
    "res.to_csv(emo_pred_file_name+\".csv\",index=False)"
   ]
  },
  {
   "cell_type": "markdown",
   "metadata": {},
   "source": [
    "## Prediction using saved model"
   ]
  },
  {
   "cell_type": "code",
   "execution_count": 5,
   "metadata": {},
   "outputs": [
    {
     "name": "stdout",
     "output_type": "stream",
     "text": [
      "emo-denoting model prediction results are saved in ../output/pred_with_rfc.csv\n"
     ]
    }
   ],
   "source": [
    "model_file_path = \"emo-prediction_rft_model\"\n",
    "loaded_model = pickle.load(open(model_save_folder + model_file_path, 'rb'))\n",
    "\n",
    "result = loaded_model.predict(input_text[input_col])\n",
    "res = input_text[input_col].copy()\n",
    "res['word'] = input_text['index']\n",
    "res['emo?'] = result\n",
    "res['textid']=input_text['from_textid']\n",
    "res.to_csv(output_folder + emo_pred_file_name+\".csv\",index=False)\n",
    "print(f'Emo-denoting Model prediction results are saved in {output_folder+emo_pred_file_name}.csv')"
   ]
  },
  {
   "cell_type": "markdown",
   "metadata": {},
   "source": [
    "## Emerge with text corpus for prediction result reviews\n",
    "\n",
    "**corpus_path** to read your original corpus"
   ]
  },
  {
   "cell_type": "code",
   "execution_count": 21,
   "metadata": {},
   "outputs": [],
   "source": [
    "### read orignal text and merge with the prediction \n",
    "### change here\n",
    "corpus_path = \"./corpusval.csv\"\n",
    "###\n",
    "corpus_orig = pd.read_csv(corpus_path)\n",
    "corpus_orig.rename(columns={'index':'textid'},inplace=True)"
   ]
  },
  {
   "cell_type": "code",
   "execution_count": 22,
   "metadata": {},
   "outputs": [
    {
     "data": {
      "text/html": [
       "<div>\n",
       "<style scoped>\n",
       "    .dataframe tbody tr th:only-of-type {\n",
       "        vertical-align: middle;\n",
       "    }\n",
       "\n",
       "    .dataframe tbody tr th {\n",
       "        vertical-align: top;\n",
       "    }\n",
       "\n",
       "    .dataframe thead th {\n",
       "        text-align: right;\n",
       "    }\n",
       "</style>\n",
       "<table border=\"1\" class=\"dataframe\">\n",
       "  <thead>\n",
       "    <tr style=\"text-align: right;\">\n",
       "      <th></th>\n",
       "      <th>Authority</th>\n",
       "      <th>Weighted Degree</th>\n",
       "      <th>betweenesscentrality</th>\n",
       "      <th>avg_pred_auth</th>\n",
       "      <th>avg_pred_deg</th>\n",
       "      <th>avg_pred_betcent</th>\n",
       "      <th>word</th>\n",
       "      <th>emo?</th>\n",
       "      <th>textid</th>\n",
       "      <th>review</th>\n",
       "      <th>sentiment</th>\n",
       "      <th>review_cleaned</th>\n",
       "    </tr>\n",
       "  </thead>\n",
       "  <tbody>\n",
       "    <tr>\n",
       "      <th>0</th>\n",
       "      <td>0.000058</td>\n",
       "      <td>17.0</td>\n",
       "      <td>0.000000</td>\n",
       "      <td>0.005152</td>\n",
       "      <td>222.500000</td>\n",
       "      <td>37434.334795</td>\n",
       "      <td>simply_1</td>\n",
       "      <td>0.0</td>\n",
       "      <td>8714</td>\n",
       "      <td>I simply love this movie. I also love the Ramo...</td>\n",
       "      <td>0</td>\n",
       "      <td>I simply love this movie. I also love the Ramo...</td>\n",
       "    </tr>\n",
       "    <tr>\n",
       "      <th>1</th>\n",
       "      <td>0.000218</td>\n",
       "      <td>84.0</td>\n",
       "      <td>57973.517690</td>\n",
       "      <td>0.000280</td>\n",
       "      <td>63.250000</td>\n",
       "      <td>14573.367585</td>\n",
       "      <td>love_2</td>\n",
       "      <td>1.0</td>\n",
       "      <td>8714</td>\n",
       "      <td>I simply love this movie. I also love the Ramo...</td>\n",
       "      <td>0</td>\n",
       "      <td>I simply love this movie. I also love the Ramo...</td>\n",
       "    </tr>\n",
       "    <tr>\n",
       "      <th>2</th>\n",
       "      <td>0.000010</td>\n",
       "      <td>6.0</td>\n",
       "      <td>3307.571201</td>\n",
       "      <td>0.000113</td>\n",
       "      <td>46.600000</td>\n",
       "      <td>74817.864279</td>\n",
       "      <td>movie_4</td>\n",
       "      <td>0.0</td>\n",
       "      <td>8714</td>\n",
       "      <td>I simply love this movie. I also love the Ramo...</td>\n",
       "      <td>0</td>\n",
       "      <td>I simply love this movie. I also love the Ramo...</td>\n",
       "    </tr>\n",
       "    <tr>\n",
       "      <th>3</th>\n",
       "      <td>0.000218</td>\n",
       "      <td>84.0</td>\n",
       "      <td>57973.517690</td>\n",
       "      <td>0.000351</td>\n",
       "      <td>81.333333</td>\n",
       "      <td>19431.156780</td>\n",
       "      <td>love_8</td>\n",
       "      <td>1.0</td>\n",
       "      <td>8714</td>\n",
       "      <td>I simply love this movie. I also love the Ramo...</td>\n",
       "      <td>0</td>\n",
       "      <td>I simply love this movie. I also love the Ramo...</td>\n",
       "    </tr>\n",
       "    <tr>\n",
       "      <th>4</th>\n",
       "      <td>0.000016</td>\n",
       "      <td>18.0</td>\n",
       "      <td>0.000000</td>\n",
       "      <td>0.030319</td>\n",
       "      <td>289.750000</td>\n",
       "      <td>16201.774831</td>\n",
       "      <td>biased_16</td>\n",
       "      <td>1.0</td>\n",
       "      <td>8714</td>\n",
       "      <td>I simply love this movie. I also love the Ramo...</td>\n",
       "      <td>0</td>\n",
       "      <td>I simply love this movie. I also love the Ramo...</td>\n",
       "    </tr>\n",
       "  </tbody>\n",
       "</table>\n",
       "</div>"
      ],
      "text/plain": [
       "   Authority  Weighted Degree  betweenesscentrality  avg_pred_auth  \\\n",
       "0   0.000058             17.0              0.000000       0.005152   \n",
       "1   0.000218             84.0          57973.517690       0.000280   \n",
       "2   0.000010              6.0           3307.571201       0.000113   \n",
       "3   0.000218             84.0          57973.517690       0.000351   \n",
       "4   0.000016             18.0              0.000000       0.030319   \n",
       "\n",
       "   avg_pred_deg  avg_pred_betcent       word  emo?  textid  \\\n",
       "0    222.500000      37434.334795   simply_1   0.0    8714   \n",
       "1     63.250000      14573.367585     love_2   1.0    8714   \n",
       "2     46.600000      74817.864279    movie_4   0.0    8714   \n",
       "3     81.333333      19431.156780     love_8   1.0    8714   \n",
       "4    289.750000      16201.774831  biased_16   1.0    8714   \n",
       "\n",
       "                                              review  sentiment  \\\n",
       "0  I simply love this movie. I also love the Ramo...          0   \n",
       "1  I simply love this movie. I also love the Ramo...          0   \n",
       "2  I simply love this movie. I also love the Ramo...          0   \n",
       "3  I simply love this movie. I also love the Ramo...          0   \n",
       "4  I simply love this movie. I also love the Ramo...          0   \n",
       "\n",
       "                                      review_cleaned  \n",
       "0  I simply love this movie. I also love the Ramo...  \n",
       "1  I simply love this movie. I also love the Ramo...  \n",
       "2  I simply love this movie. I also love the Ramo...  \n",
       "3  I simply love this movie. I also love the Ramo...  \n",
       "4  I simply love this movie. I also love the Ramo...  "
      ]
     },
     "execution_count": 22,
     "metadata": {},
     "output_type": "execute_result"
    }
   ],
   "source": [
    "## visualize some of the examples\n",
    "res.merge(corpus_orig,on='textid',how='left')[:5]"
   ]
  },
  {
   "cell_type": "code",
   "execution_count": 63,
   "metadata": {},
   "outputs": [],
   "source": [
    "### only output predicted emo words together with the original text \n",
    "emo_agg =  res.loc[res['emo?']==1].groupby('textid')['word'].agg(list)\n",
    "emo_agg_with_text = pd.DataFrame(emo_agg)\n",
    "emo_agg_with_text.merge(corpus_orig,on='textid').to_csv(emo_pred_file_name+\"_agg_with_corpus.csv\",index=False)"
   ]
  }
 ],
 "metadata": {
  "kernelspec": {
   "display_name": "Python 3",
   "language": "python",
   "name": "python3"
  },
  "language_info": {
   "codemirror_mode": {
    "name": "ipython",
    "version": 3
   },
   "file_extension": ".py",
   "mimetype": "text/x-python",
   "name": "python",
   "nbconvert_exporter": "python",
   "pygments_lexer": "ipython3",
   "version": "3.7.6"
  }
 },
 "nbformat": 4,
 "nbformat_minor": 4
}
